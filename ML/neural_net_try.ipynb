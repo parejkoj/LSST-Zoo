{
 "cells": [
  {
   "cell_type": "code",
   "execution_count": 1,
   "metadata": {},
   "outputs": [],
   "source": [
    "import pandas as pd\n",
    "from pandas import Series\n",
    "import numpy as np\n",
    "import json\n",
    "import matplotlib.pyplot as plt\n",
    "from sklearn.feature_selection import VarianceThreshold\n",
    "import torch\n",
    "import torch.nn as nn\n",
    "import torch.nn.functional as F\n",
    "from torch.autograd import Variable\n",
    "import matplotlib.pyplot as plt"
   ]
  },
  {
   "cell_type": "markdown",
   "metadata": {},
   "source": [
    "## Preparation"
   ]
  },
  {
   "cell_type": "code",
   "execution_count": 2,
   "metadata": {},
   "outputs": [],
   "source": [
    "# load parameters\n",
    "params_df = pd.read_csv(\"ML_param.csv\")\n",
    "# Just doing what the repo did\n",
    "del params_df['coord_dec'] \n",
    "del params_df['coord_ra']\n",
    "del params_df['id']\n",
    "del params_df['parent']"
   ]
  },
  {
   "cell_type": "code",
   "execution_count": 3,
   "metadata": {},
   "outputs": [],
   "source": [
    "# load classfication data\n",
    "data_df = pd.read_csv(\"../classifications/lsst_run_one.csv\")\n",
    "data_df.head()\n",
    "classify_df = data_df.loc[data_df['workflow_name'] == \"Difference Imaging Classifier\"]\n",
    "\n",
    "image_class = np.zeros(classify_df.shape[0], dtype='int, object')\n",
    "idx = 0\n",
    "for _, row in classify_df.iterrows():\n",
    "    s_data = json.loads(row.subject_data) #Subject Data\n",
    "    s_data = s_data.get(list(s_data.keys())[0])\n",
    "    # cut \"/home/......./cutout\" and \".png\"\n",
    "    image_num = s_data.get(list(s_data.keys())[1])[47:-4]\n",
    "    # annotations\n",
    "    a_data = json.loads(row.annotations)[0]\n",
    "    classification = a_data['value']\n",
    "    image_class[idx] = (int(image_num), classification)\n",
    "    idx += 1"
   ]
  },
  {
   "cell_type": "code",
   "execution_count": 4,
   "metadata": {},
   "outputs": [],
   "source": [
    "# add a new classification column, init with None\n",
    "params_df = params_df.assign(Classification=Series(np.full(params_df.shape[0], None)))\n",
    "for image in image_class:\n",
    "    params_df.loc[image[0], \"Classification\"] = image[1]\n",
    "# drop the rows with no classification\n",
    "df = params_df[params_df[\"Classification\"].notnull()]"
   ]
  },
  {
   "cell_type": "code",
   "execution_count": 5,
   "metadata": {},
   "outputs": [
    {
     "data": {
      "text/html": [
       "<div>\n",
       "<style scoped>\n",
       "    .dataframe tbody tr th:only-of-type {\n",
       "        vertical-align: middle;\n",
       "    }\n",
       "\n",
       "    .dataframe tbody tr th {\n",
       "        vertical-align: top;\n",
       "    }\n",
       "\n",
       "    .dataframe thead th {\n",
       "        text-align: right;\n",
       "    }\n",
       "</style>\n",
       "<table border=\"1\" class=\"dataframe\">\n",
       "  <thead>\n",
       "    <tr style=\"text-align: right;\">\n",
       "      <th></th>\n",
       "      <th>image</th>\n",
       "      <th>base_CircularApertureFlux_70_0_flux</th>\n",
       "      <th>base_CircularApertureFlux_6_0_flux</th>\n",
       "      <th>base_SdssShape_psf_xx</th>\n",
       "      <th>base_SdssShape_psf_xy</th>\n",
       "      <th>base_SdssCentroid_x</th>\n",
       "      <th>ip_diffim_PsfDipoleFlux_pos_fluxSigma</th>\n",
       "      <th>ip_diffim_PsfDipoleFlux_pos_flux</th>\n",
       "      <th>base_SdssShape_psf_yy</th>\n",
       "      <th>base_SdssShape_flux_xy_Cov</th>\n",
       "      <th>...</th>\n",
       "      <th>base_CircularApertureFlux_4_5_fluxSigma</th>\n",
       "      <th>ip_diffim_DipoleFit_separation</th>\n",
       "      <th>ip_diffim_DipoleFit_pos_fluxSigma</th>\n",
       "      <th>base_SdssShape_yy</th>\n",
       "      <th>base_CircularApertureFlux_9_0_flux</th>\n",
       "      <th>ip_diffim_PsfDipoleFlux_neg_centroid_x</th>\n",
       "      <th>base_CircularApertureFlux_12_0_flux</th>\n",
       "      <th>ip_diffim_DipoleFit_orientation</th>\n",
       "      <th>base_CircularApertureFlux_25_0_flux</th>\n",
       "      <th>Classification</th>\n",
       "    </tr>\n",
       "  </thead>\n",
       "  <tbody>\n",
       "    <tr>\n",
       "      <th>0</th>\n",
       "      <td>0</td>\n",
       "      <td>9631.897876</td>\n",
       "      <td>714.726562</td>\n",
       "      <td>2.828649</td>\n",
       "      <td>-0.453969</td>\n",
       "      <td>225.833654</td>\n",
       "      <td>2515.781488</td>\n",
       "      <td>108909.800974</td>\n",
       "      <td>2.625221</td>\n",
       "      <td>-19.500092</td>\n",
       "      <td>...</td>\n",
       "      <td>176.950531</td>\n",
       "      <td>0.075128</td>\n",
       "      <td>675.617063</td>\n",
       "      <td>0.531181</td>\n",
       "      <td>661.367737</td>\n",
       "      <td>226.625613</td>\n",
       "      <td>418.723064</td>\n",
       "      <td>130.761641</td>\n",
       "      <td>1011.415786</td>\n",
       "      <td>Dipole</td>\n",
       "    </tr>\n",
       "    <tr>\n",
       "      <th>1</th>\n",
       "      <td>1</td>\n",
       "      <td>4203.040442</td>\n",
       "      <td>1035.672363</td>\n",
       "      <td>2.828649</td>\n",
       "      <td>-0.453969</td>\n",
       "      <td>1403.524349</td>\n",
       "      <td>0.000000</td>\n",
       "      <td>0.000000</td>\n",
       "      <td>2.625221</td>\n",
       "      <td>-24.382818</td>\n",
       "      <td>...</td>\n",
       "      <td>102.062622</td>\n",
       "      <td>0.000000</td>\n",
       "      <td>0.000000</td>\n",
       "      <td>2.142461</td>\n",
       "      <td>1011.458618</td>\n",
       "      <td>0.000000</td>\n",
       "      <td>1113.044229</td>\n",
       "      <td>0.000000</td>\n",
       "      <td>1657.226911</td>\n",
       "      <td>Possible Transient</td>\n",
       "    </tr>\n",
       "    <tr>\n",
       "      <th>2</th>\n",
       "      <td>2</td>\n",
       "      <td>1545.866122</td>\n",
       "      <td>-148.509018</td>\n",
       "      <td>2.828649</td>\n",
       "      <td>-0.453969</td>\n",
       "      <td>1516.439084</td>\n",
       "      <td>3339.446858</td>\n",
       "      <td>169312.388582</td>\n",
       "      <td>2.625221</td>\n",
       "      <td>0.000000</td>\n",
       "      <td>...</td>\n",
       "      <td>242.372284</td>\n",
       "      <td>0.066358</td>\n",
       "      <td>1329.376864</td>\n",
       "      <td>410.077555</td>\n",
       "      <td>159.960388</td>\n",
       "      <td>1516.969982</td>\n",
       "      <td>50.727865</td>\n",
       "      <td>-23.666280</td>\n",
       "      <td>194.104162</td>\n",
       "      <td>Subtraction Error</td>\n",
       "    </tr>\n",
       "    <tr>\n",
       "      <th>3</th>\n",
       "      <td>3</td>\n",
       "      <td>0.000000</td>\n",
       "      <td>32.771393</td>\n",
       "      <td>2.828649</td>\n",
       "      <td>-0.453969</td>\n",
       "      <td>65.176307</td>\n",
       "      <td>0.000000</td>\n",
       "      <td>0.000000</td>\n",
       "      <td>2.625221</td>\n",
       "      <td>-15.389731</td>\n",
       "      <td>...</td>\n",
       "      <td>145.347290</td>\n",
       "      <td>0.000000</td>\n",
       "      <td>0.000000</td>\n",
       "      <td>0.618887</td>\n",
       "      <td>209.429108</td>\n",
       "      <td>0.000000</td>\n",
       "      <td>-94.296964</td>\n",
       "      <td>0.000000</td>\n",
       "      <td>538.538759</td>\n",
       "      <td>Subtraction Error</td>\n",
       "    </tr>\n",
       "    <tr>\n",
       "      <th>4</th>\n",
       "      <td>4</td>\n",
       "      <td>10168.914930</td>\n",
       "      <td>718.301331</td>\n",
       "      <td>2.828649</td>\n",
       "      <td>-0.453969</td>\n",
       "      <td>834.630699</td>\n",
       "      <td>2950.619325</td>\n",
       "      <td>111744.638382</td>\n",
       "      <td>2.625221</td>\n",
       "      <td>-0.557023</td>\n",
       "      <td>...</td>\n",
       "      <td>203.650833</td>\n",
       "      <td>0.087032</td>\n",
       "      <td>859.469912</td>\n",
       "      <td>0.224596</td>\n",
       "      <td>1180.052612</td>\n",
       "      <td>834.469876</td>\n",
       "      <td>988.245036</td>\n",
       "      <td>85.948590</td>\n",
       "      <td>1932.348548</td>\n",
       "      <td>Subtraction Error</td>\n",
       "    </tr>\n",
       "  </tbody>\n",
       "</table>\n",
       "<p>5 rows × 87 columns</p>\n",
       "</div>"
      ],
      "text/plain": [
       "   image  base_CircularApertureFlux_70_0_flux  \\\n",
       "0      0                          9631.897876   \n",
       "1      1                          4203.040442   \n",
       "2      2                          1545.866122   \n",
       "3      3                             0.000000   \n",
       "4      4                         10168.914930   \n",
       "\n",
       "   base_CircularApertureFlux_6_0_flux  base_SdssShape_psf_xx  \\\n",
       "0                          714.726562               2.828649   \n",
       "1                         1035.672363               2.828649   \n",
       "2                         -148.509018               2.828649   \n",
       "3                           32.771393               2.828649   \n",
       "4                          718.301331               2.828649   \n",
       "\n",
       "   base_SdssShape_psf_xy  base_SdssCentroid_x  \\\n",
       "0              -0.453969           225.833654   \n",
       "1              -0.453969          1403.524349   \n",
       "2              -0.453969          1516.439084   \n",
       "3              -0.453969            65.176307   \n",
       "4              -0.453969           834.630699   \n",
       "\n",
       "   ip_diffim_PsfDipoleFlux_pos_fluxSigma  ip_diffim_PsfDipoleFlux_pos_flux  \\\n",
       "0                            2515.781488                     108909.800974   \n",
       "1                               0.000000                          0.000000   \n",
       "2                            3339.446858                     169312.388582   \n",
       "3                               0.000000                          0.000000   \n",
       "4                            2950.619325                     111744.638382   \n",
       "\n",
       "   base_SdssShape_psf_yy  base_SdssShape_flux_xy_Cov         ...          \\\n",
       "0               2.625221                  -19.500092         ...           \n",
       "1               2.625221                  -24.382818         ...           \n",
       "2               2.625221                    0.000000         ...           \n",
       "3               2.625221                  -15.389731         ...           \n",
       "4               2.625221                   -0.557023         ...           \n",
       "\n",
       "   base_CircularApertureFlux_4_5_fluxSigma  ip_diffim_DipoleFit_separation  \\\n",
       "0                               176.950531                        0.075128   \n",
       "1                               102.062622                        0.000000   \n",
       "2                               242.372284                        0.066358   \n",
       "3                               145.347290                        0.000000   \n",
       "4                               203.650833                        0.087032   \n",
       "\n",
       "   ip_diffim_DipoleFit_pos_fluxSigma  base_SdssShape_yy  \\\n",
       "0                         675.617063           0.531181   \n",
       "1                           0.000000           2.142461   \n",
       "2                        1329.376864         410.077555   \n",
       "3                           0.000000           0.618887   \n",
       "4                         859.469912           0.224596   \n",
       "\n",
       "   base_CircularApertureFlux_9_0_flux  ip_diffim_PsfDipoleFlux_neg_centroid_x  \\\n",
       "0                          661.367737                              226.625613   \n",
       "1                         1011.458618                                0.000000   \n",
       "2                          159.960388                             1516.969982   \n",
       "3                          209.429108                                0.000000   \n",
       "4                         1180.052612                              834.469876   \n",
       "\n",
       "   base_CircularApertureFlux_12_0_flux  ip_diffim_DipoleFit_orientation  \\\n",
       "0                           418.723064                       130.761641   \n",
       "1                          1113.044229                         0.000000   \n",
       "2                            50.727865                       -23.666280   \n",
       "3                           -94.296964                         0.000000   \n",
       "4                           988.245036                        85.948590   \n",
       "\n",
       "   base_CircularApertureFlux_25_0_flux      Classification  \n",
       "0                          1011.415786              Dipole  \n",
       "1                          1657.226911  Possible Transient  \n",
       "2                           194.104162   Subtraction Error  \n",
       "3                           538.538759   Subtraction Error  \n",
       "4                          1932.348548   Subtraction Error  \n",
       "\n",
       "[5 rows x 87 columns]"
      ]
     },
     "execution_count": 5,
     "metadata": {},
     "output_type": "execute_result"
    }
   ],
   "source": [
    "# drop some columns\n",
    "for col in df.columns:\n",
    "    if df[col].isnull().all():\n",
    "        del df[col]   \n",
    "    elif df[col].dtype != 'object' and np.mean(df[col]) == np.inf:\n",
    "        del df[col]\n",
    "    elif \"flag\" in col: #Flags don't contribute to ML based on initial testing\n",
    "        del df[col]\n",
    "    \n",
    "df = df.fillna(0)\n",
    "df.head()"
   ]
  },
  {
   "cell_type": "markdown",
   "metadata": {},
   "source": [
    "## Training, dev, test"
   ]
  },
  {
   "cell_type": "code",
   "execution_count": 6,
   "metadata": {},
   "outputs": [
    {
     "name": "stdout",
     "output_type": "stream",
     "text": [
      "{'Dipole': 0, 'Possible Transient': 1, 'Subtraction Error': 2, 'Possible Variable Star': 3, 'Pixel Artifact': 4, 'Noise': 5}\n"
     ]
    }
   ],
   "source": [
    "# shuffle data\n",
    "df.sample(frac=1)\n",
    "\n",
    "# get rid of (super) low variance features\n",
    "selector = VarianceThreshold(0.01)\n",
    "training = selector.fit_transform(df.drop(columns=['Classification']))\n",
    "labels = df['Classification']\n",
    "\n",
    "\n",
    "# normalize\n",
    "for col in df.columns:\n",
    "    if df[col].dtype == \"float64\" or df[col].dtype == \"int64\":\n",
    "        df[col] = (df[col] - df[col].min()) / (df[col].max() - df[col].min())\n",
    "\n",
    "\n",
    "length = training.shape[0]\n",
    "train_split = int(length * 0.65)\n",
    "dev_split = int(length * 0.80)\n",
    "\n",
    "train_X = training[0 : train_split]\n",
    "dev_X = training[train_split : dev_split]\n",
    "test_X = training[dev_split:]\n",
    "\n",
    "# type to vectors\n",
    "label_dict = dict()\n",
    "trans_dict = dict()\n",
    "for i, l in enumerate(labels.unique()):\n",
    "    label_dict[l] = i\n",
    "    trans_dict[i] = l\n",
    "\n",
    "    \n",
    "print(label_dict)\n",
    "    \n",
    "Y = []\n",
    "for i in labels:\n",
    "    Y.append(label_dict[i])\n",
    "    \n",
    "    \n",
    "train_y = Y[0 : train_split]\n",
    "dev_y = Y[train_split : dev_split]\n",
    "test_y = Y[dev_split:]"
   ]
  },
  {
   "cell_type": "markdown",
   "metadata": {},
   "source": [
    "## Neural Network "
   ]
  },
  {
   "cell_type": "code",
   "execution_count": 21,
   "metadata": {},
   "outputs": [],
   "source": [
    "class LSSTNet(nn.Module):\n",
    "\n",
    "    def __init__(self):\n",
    "        super(LSSTNet, self).__init__()\n",
    "        self.fc1 = nn.Linear(85, 100)\n",
    "        self.fc2 = nn.Linear(100, 50)\n",
    "        self.fc3 = nn.Linear(50, 6)\n",
    "        nn.init.xavier_uniform(self.fc1.weight)\n",
    "        nn.init.xavier_uniform(self.fc2.weight)\n",
    "        nn.init.xavier_uniform(self.fc3.weight)\n",
    "        self.model = torch.nn.Sequential(\n",
    "                         self.fc1,\n",
    "                         nn.BatchNorm1d(100, momentum=0.5),\n",
    "                         nn.ReLU(),\n",
    "                         self.fc2,\n",
    "                         nn.BatchNorm1d(50, momentum=0.5),\n",
    "                         nn.ReLU(),\n",
    "                         self.fc3)\n",
    "        \n",
    "        \n",
    "    def forward(self, x):\n",
    "        \"\"\"\n",
    "        Use relu\n",
    "        \"\"\"\n",
    "        return F.log_softmax(self.model(x), dim=1)"
   ]
  },
  {
   "cell_type": "code",
   "execution_count": 22,
   "metadata": {},
   "outputs": [],
   "source": [
    "net = LSSTNet().double()\n",
    "if torch.cuda.is_available():\n",
    "    net.cuda()\n",
    "\n",
    "# optim and loss\n",
    "optim = torch.optim.Adam(net.parameters(), lr=1e-4)\n",
    "critetion = nn.NLLLoss()"
   ]
  },
  {
   "cell_type": "code",
   "execution_count": 23,
   "metadata": {},
   "outputs": [],
   "source": [
    "# need variable wrapper\n",
    "X = Variable(torch.from_numpy(train_X).contiguous())\n",
    "y = Variable(torch.from_numpy(np.asarray(train_y)).contiguous()).long()"
   ]
  },
  {
   "cell_type": "code",
   "execution_count": 24,
   "metadata": {},
   "outputs": [
    {
     "name": "stdout",
     "output_type": "stream",
     "text": [
      "t:  0  loss:  1.8362058065796047\n",
      "t:  100  loss:  1.4808222475315262\n",
      "t:  200  loss:  1.220803505094759\n",
      "t:  300  loss:  1.0757745335379525\n",
      "t:  400  loss:  0.9774573316043764\n",
      "t:  500  loss:  0.882890037273286\n",
      "t:  600  loss:  0.8000528809310044\n",
      "t:  700  loss:  0.7254027282957688\n",
      "t:  800  loss:  0.6661557312846765\n",
      "t:  900  loss:  0.6185176727868701\n",
      "t:  1000  loss:  0.5821009390816765\n"
     ]
    }
   ],
   "source": [
    "T = 1100\n",
    "# run 500 times\n",
    "for t in range(T):\n",
    "    # forward\n",
    "    y_pred = net(X)\n",
    "    loss = critetion(y_pred, y)\n",
    "    # Zero the gradients before running the backward pass.\n",
    "    net.zero_grad()\n",
    "    loss.backward()\n",
    "    optim.step()\n",
    "    if t % 100 == 0:\n",
    "        print(\"t: \", t, \" loss: \", loss.data[0])"
   ]
  },
  {
   "cell_type": "markdown",
   "metadata": {},
   "source": [
    "## dev testing"
   ]
  },
  {
   "cell_type": "code",
   "execution_count": 25,
   "metadata": {},
   "outputs": [],
   "source": [
    "development_X = Variable(torch.from_numpy(dev_X).contiguous())\n",
    "development_y = Variable(torch.from_numpy(np.asarray(dev_y)).contiguous()).long()"
   ]
  },
  {
   "cell_type": "code",
   "execution_count": 26,
   "metadata": {},
   "outputs": [],
   "source": [
    "dev_pred = net(development_X)"
   ]
  },
  {
   "cell_type": "code",
   "execution_count": 27,
   "metadata": {},
   "outputs": [
    {
     "name": "stdout",
     "output_type": "stream",
     "text": [
      "0.6504002154199562\n"
     ]
    }
   ],
   "source": [
    "print(critetion(dev_pred, development_y).data[0])"
   ]
  },
  {
   "cell_type": "code",
   "execution_count": 28,
   "metadata": {},
   "outputs": [
    {
     "name": "stdout",
     "output_type": "stream",
     "text": [
      "115\n",
      "0.7718120805369127\n"
     ]
    }
   ],
   "source": [
    "# check how many we got right:\n",
    "correct = 0\n",
    "for ii, pred in enumerate(dev_pred.data):\n",
    "    i = np.argmax(pred)\n",
    "    if i == dev_y[ii]:\n",
    "        correct += 1\n",
    "        \n",
    "        \n",
    "print(correct)\n",
    "print(float(correct) / len(dev_y))"
   ]
  },
  {
   "cell_type": "code",
   "execution_count": 29,
   "metadata": {},
   "outputs": [],
   "source": [
    "testing_X = Variable(torch.from_numpy(test_X).contiguous())\n",
    "testing_y = Variable(torch.from_numpy(np.asarray(test_y)).contiguous()).long()"
   ]
  },
  {
   "cell_type": "code",
   "execution_count": 30,
   "metadata": {},
   "outputs": [
    {
     "name": "stdout",
     "output_type": "stream",
     "text": [
      "0.5829032630228582\n",
      "162\n",
      "accuracy:  0.8140703517587939\n"
     ]
    }
   ],
   "source": [
    "test_pred = net(testing_X)\n",
    "print(critetion(test_pred, testing_y).data[0])\n",
    "\n",
    "# check how many we got right:\n",
    "correct = 0\n",
    "for ii, pred in enumerate(test_pred.data):\n",
    "    i = np.argmax(pred)\n",
    "    if i == test_y[ii]:\n",
    "        correct += 1\n",
    "        \n",
    "        \n",
    "print(correct)\n",
    "print(\"accuracy: \", \n",
    "      float(correct) / len(test_y))"
   ]
  },
  {
   "cell_type": "code",
   "execution_count": null,
   "metadata": {},
   "outputs": [],
   "source": []
  }
 ],
 "metadata": {
  "kernelspec": {
   "display_name": "Python 3",
   "language": "python",
   "name": "python3"
  },
  "language_info": {
   "codemirror_mode": {
    "name": "ipython",
    "version": 3
   },
   "file_extension": ".py",
   "mimetype": "text/x-python",
   "name": "python",
   "nbconvert_exporter": "python",
   "pygments_lexer": "ipython3",
   "version": "3.6.4"
  }
 },
 "nbformat": 4,
 "nbformat_minor": 2
}
