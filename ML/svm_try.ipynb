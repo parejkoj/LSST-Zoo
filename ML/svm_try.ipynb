{
 "cells": [
  {
   "cell_type": "markdown",
   "metadata": {},
   "source": [
    "# SVM try"
   ]
  },
  {
   "cell_type": "code",
   "execution_count": 14,
   "metadata": {},
   "outputs": [],
   "source": [
    "import pandas as pd\n",
    "from pandas import Series\n",
    "import numpy as np\n",
    "import json\n",
    "from sklearn import svm\n",
    "import matplotlib.pyplot as plt\n",
    "from sklearn.feature_selection import VarianceThreshold\n",
    "from sklearn.ensemble import AdaBoostClassifier"
   ]
  },
  {
   "cell_type": "markdown",
   "metadata": {},
   "source": [
    "## Preparation"
   ]
  },
  {
   "cell_type": "code",
   "execution_count": 15,
   "metadata": {},
   "outputs": [],
   "source": [
    "# load parameters\n",
    "params_df = pd.read_csv(\"ML_param.csv\")\n",
    "# Just doing what the repo did\n",
    "del params_df['coord_dec'] \n",
    "del params_df['coord_ra']\n",
    "del params_df['id']\n",
    "del params_df['parent']"
   ]
  },
  {
   "cell_type": "code",
   "execution_count": 16,
   "metadata": {},
   "outputs": [],
   "source": [
    "# load classfication data\n",
    "data_df = pd.read_csv(\"../classifications/lsst_run_one.csv\")\n",
    "data_df.head()\n",
    "classify_df = data_df.loc[data_df['workflow_name'] == \"Difference Imaging Classifier\"]\n",
    "\n",
    "image_class = np.zeros(classify_df.shape[0], dtype='int, object')\n",
    "idx = 0\n",
    "for _, row in classify_df.iterrows():\n",
    "    s_data = json.loads(row.subject_data) #Subject Data\n",
    "    s_data = s_data.get(list(s_data.keys())[0])\n",
    "    # cut \"/home/......./cutout\" and \".png\"\n",
    "    image_num = s_data.get(list(s_data.keys())[1])[47:-4]\n",
    "    # annotations\n",
    "    a_data = json.loads(row.annotations)[0]\n",
    "    classification = a_data['value']\n",
    "    image_class[idx] = (int(image_num), classification)\n",
    "    idx += 1"
   ]
  },
  {
   "cell_type": "code",
   "execution_count": 17,
   "metadata": {},
   "outputs": [],
   "source": [
    "# add a new classification column, init with None\n",
    "params_df = params_df.assign(Classification=Series(np.full(params_df.shape[0], None)))\n",
    "for image in image_class:\n",
    "    params_df.loc[image[0], \"Classification\"] = image[1]\n",
    "# drop the rows with no classification\n",
    "df = params_df[params_df[\"Classification\"].notnull()]"
   ]
  },
  {
   "cell_type": "code",
   "execution_count": 18,
   "metadata": {},
   "outputs": [],
   "source": [
    "# drop some columns\n",
    "for col in df.columns:\n",
    "    if df[col].isnull().all():\n",
    "        del df[col]   \n",
    "    elif df[col].dtype != 'object' and np.mean(df[col]) == np.inf:\n",
    "        del df[col]\n",
    "    elif \"flag\" in col: #Flags don't contribute to ML based on initial testing\n",
    "        del df[col]\n",
    "    \n",
    "df = df.fillna(0)"
   ]
  },
  {
   "cell_type": "code",
   "execution_count": 19,
   "metadata": {},
   "outputs": [
    {
     "data": {
      "text/html": [
       "<div>\n",
       "<style scoped>\n",
       "    .dataframe tbody tr th:only-of-type {\n",
       "        vertical-align: middle;\n",
       "    }\n",
       "\n",
       "    .dataframe tbody tr th {\n",
       "        vertical-align: top;\n",
       "    }\n",
       "\n",
       "    .dataframe thead th {\n",
       "        text-align: right;\n",
       "    }\n",
       "</style>\n",
       "<table border=\"1\" class=\"dataframe\">\n",
       "  <thead>\n",
       "    <tr style=\"text-align: right;\">\n",
       "      <th></th>\n",
       "      <th>image</th>\n",
       "      <th>base_CircularApertureFlux_70_0_flux</th>\n",
       "      <th>base_CircularApertureFlux_6_0_flux</th>\n",
       "      <th>base_SdssShape_psf_xx</th>\n",
       "      <th>base_SdssShape_psf_xy</th>\n",
       "      <th>base_SdssCentroid_x</th>\n",
       "      <th>ip_diffim_PsfDipoleFlux_pos_fluxSigma</th>\n",
       "      <th>ip_diffim_PsfDipoleFlux_pos_flux</th>\n",
       "      <th>base_SdssShape_psf_yy</th>\n",
       "      <th>base_SdssShape_flux_xy_Cov</th>\n",
       "      <th>...</th>\n",
       "      <th>base_CircularApertureFlux_4_5_fluxSigma</th>\n",
       "      <th>ip_diffim_DipoleFit_separation</th>\n",
       "      <th>ip_diffim_DipoleFit_pos_fluxSigma</th>\n",
       "      <th>base_SdssShape_yy</th>\n",
       "      <th>base_CircularApertureFlux_9_0_flux</th>\n",
       "      <th>ip_diffim_PsfDipoleFlux_neg_centroid_x</th>\n",
       "      <th>base_CircularApertureFlux_12_0_flux</th>\n",
       "      <th>ip_diffim_DipoleFit_orientation</th>\n",
       "      <th>base_CircularApertureFlux_25_0_flux</th>\n",
       "      <th>Classification</th>\n",
       "    </tr>\n",
       "  </thead>\n",
       "  <tbody>\n",
       "    <tr>\n",
       "      <th>0</th>\n",
       "      <td>0</td>\n",
       "      <td>9631.897876</td>\n",
       "      <td>714.726562</td>\n",
       "      <td>2.828649</td>\n",
       "      <td>-0.453969</td>\n",
       "      <td>225.833654</td>\n",
       "      <td>2515.781488</td>\n",
       "      <td>108909.800974</td>\n",
       "      <td>2.625221</td>\n",
       "      <td>-19.500092</td>\n",
       "      <td>...</td>\n",
       "      <td>176.950531</td>\n",
       "      <td>0.075128</td>\n",
       "      <td>675.617063</td>\n",
       "      <td>0.531181</td>\n",
       "      <td>661.367737</td>\n",
       "      <td>226.625613</td>\n",
       "      <td>418.723064</td>\n",
       "      <td>130.761641</td>\n",
       "      <td>1011.415786</td>\n",
       "      <td>Dipole</td>\n",
       "    </tr>\n",
       "    <tr>\n",
       "      <th>1</th>\n",
       "      <td>1</td>\n",
       "      <td>4203.040442</td>\n",
       "      <td>1035.672363</td>\n",
       "      <td>2.828649</td>\n",
       "      <td>-0.453969</td>\n",
       "      <td>1403.524349</td>\n",
       "      <td>0.000000</td>\n",
       "      <td>0.000000</td>\n",
       "      <td>2.625221</td>\n",
       "      <td>-24.382818</td>\n",
       "      <td>...</td>\n",
       "      <td>102.062622</td>\n",
       "      <td>0.000000</td>\n",
       "      <td>0.000000</td>\n",
       "      <td>2.142461</td>\n",
       "      <td>1011.458618</td>\n",
       "      <td>0.000000</td>\n",
       "      <td>1113.044229</td>\n",
       "      <td>0.000000</td>\n",
       "      <td>1657.226911</td>\n",
       "      <td>Possible Transient</td>\n",
       "    </tr>\n",
       "    <tr>\n",
       "      <th>2</th>\n",
       "      <td>2</td>\n",
       "      <td>1545.866122</td>\n",
       "      <td>-148.509018</td>\n",
       "      <td>2.828649</td>\n",
       "      <td>-0.453969</td>\n",
       "      <td>1516.439084</td>\n",
       "      <td>3339.446858</td>\n",
       "      <td>169312.388582</td>\n",
       "      <td>2.625221</td>\n",
       "      <td>0.000000</td>\n",
       "      <td>...</td>\n",
       "      <td>242.372284</td>\n",
       "      <td>0.066358</td>\n",
       "      <td>1329.376864</td>\n",
       "      <td>410.077555</td>\n",
       "      <td>159.960388</td>\n",
       "      <td>1516.969982</td>\n",
       "      <td>50.727865</td>\n",
       "      <td>-23.666280</td>\n",
       "      <td>194.104162</td>\n",
       "      <td>Subtraction Error</td>\n",
       "    </tr>\n",
       "    <tr>\n",
       "      <th>3</th>\n",
       "      <td>3</td>\n",
       "      <td>0.000000</td>\n",
       "      <td>32.771393</td>\n",
       "      <td>2.828649</td>\n",
       "      <td>-0.453969</td>\n",
       "      <td>65.176307</td>\n",
       "      <td>0.000000</td>\n",
       "      <td>0.000000</td>\n",
       "      <td>2.625221</td>\n",
       "      <td>-15.389731</td>\n",
       "      <td>...</td>\n",
       "      <td>145.347290</td>\n",
       "      <td>0.000000</td>\n",
       "      <td>0.000000</td>\n",
       "      <td>0.618887</td>\n",
       "      <td>209.429108</td>\n",
       "      <td>0.000000</td>\n",
       "      <td>-94.296964</td>\n",
       "      <td>0.000000</td>\n",
       "      <td>538.538759</td>\n",
       "      <td>Subtraction Error</td>\n",
       "    </tr>\n",
       "    <tr>\n",
       "      <th>4</th>\n",
       "      <td>4</td>\n",
       "      <td>10168.914930</td>\n",
       "      <td>718.301331</td>\n",
       "      <td>2.828649</td>\n",
       "      <td>-0.453969</td>\n",
       "      <td>834.630699</td>\n",
       "      <td>2950.619325</td>\n",
       "      <td>111744.638382</td>\n",
       "      <td>2.625221</td>\n",
       "      <td>-0.557023</td>\n",
       "      <td>...</td>\n",
       "      <td>203.650833</td>\n",
       "      <td>0.087032</td>\n",
       "      <td>859.469912</td>\n",
       "      <td>0.224596</td>\n",
       "      <td>1180.052612</td>\n",
       "      <td>834.469876</td>\n",
       "      <td>988.245036</td>\n",
       "      <td>85.948590</td>\n",
       "      <td>1932.348548</td>\n",
       "      <td>Subtraction Error</td>\n",
       "    </tr>\n",
       "  </tbody>\n",
       "</table>\n",
       "<p>5 rows × 87 columns</p>\n",
       "</div>"
      ],
      "text/plain": [
       "   image  base_CircularApertureFlux_70_0_flux  \\\n",
       "0      0                          9631.897876   \n",
       "1      1                          4203.040442   \n",
       "2      2                          1545.866122   \n",
       "3      3                             0.000000   \n",
       "4      4                         10168.914930   \n",
       "\n",
       "   base_CircularApertureFlux_6_0_flux  base_SdssShape_psf_xx  \\\n",
       "0                          714.726562               2.828649   \n",
       "1                         1035.672363               2.828649   \n",
       "2                         -148.509018               2.828649   \n",
       "3                           32.771393               2.828649   \n",
       "4                          718.301331               2.828649   \n",
       "\n",
       "   base_SdssShape_psf_xy  base_SdssCentroid_x  \\\n",
       "0              -0.453969           225.833654   \n",
       "1              -0.453969          1403.524349   \n",
       "2              -0.453969          1516.439084   \n",
       "3              -0.453969            65.176307   \n",
       "4              -0.453969           834.630699   \n",
       "\n",
       "   ip_diffim_PsfDipoleFlux_pos_fluxSigma  ip_diffim_PsfDipoleFlux_pos_flux  \\\n",
       "0                            2515.781488                     108909.800974   \n",
       "1                               0.000000                          0.000000   \n",
       "2                            3339.446858                     169312.388582   \n",
       "3                               0.000000                          0.000000   \n",
       "4                            2950.619325                     111744.638382   \n",
       "\n",
       "   base_SdssShape_psf_yy  base_SdssShape_flux_xy_Cov         ...          \\\n",
       "0               2.625221                  -19.500092         ...           \n",
       "1               2.625221                  -24.382818         ...           \n",
       "2               2.625221                    0.000000         ...           \n",
       "3               2.625221                  -15.389731         ...           \n",
       "4               2.625221                   -0.557023         ...           \n",
       "\n",
       "   base_CircularApertureFlux_4_5_fluxSigma  ip_diffim_DipoleFit_separation  \\\n",
       "0                               176.950531                        0.075128   \n",
       "1                               102.062622                        0.000000   \n",
       "2                               242.372284                        0.066358   \n",
       "3                               145.347290                        0.000000   \n",
       "4                               203.650833                        0.087032   \n",
       "\n",
       "   ip_diffim_DipoleFit_pos_fluxSigma  base_SdssShape_yy  \\\n",
       "0                         675.617063           0.531181   \n",
       "1                           0.000000           2.142461   \n",
       "2                        1329.376864         410.077555   \n",
       "3                           0.000000           0.618887   \n",
       "4                         859.469912           0.224596   \n",
       "\n",
       "   base_CircularApertureFlux_9_0_flux  ip_diffim_PsfDipoleFlux_neg_centroid_x  \\\n",
       "0                          661.367737                              226.625613   \n",
       "1                         1011.458618                                0.000000   \n",
       "2                          159.960388                             1516.969982   \n",
       "3                          209.429108                                0.000000   \n",
       "4                         1180.052612                              834.469876   \n",
       "\n",
       "   base_CircularApertureFlux_12_0_flux  ip_diffim_DipoleFit_orientation  \\\n",
       "0                           418.723064                       130.761641   \n",
       "1                          1113.044229                         0.000000   \n",
       "2                            50.727865                       -23.666280   \n",
       "3                           -94.296964                         0.000000   \n",
       "4                           988.245036                        85.948590   \n",
       "\n",
       "   base_CircularApertureFlux_25_0_flux      Classification  \n",
       "0                          1011.415786              Dipole  \n",
       "1                          1657.226911  Possible Transient  \n",
       "2                           194.104162   Subtraction Error  \n",
       "3                           538.538759   Subtraction Error  \n",
       "4                          1932.348548   Subtraction Error  \n",
       "\n",
       "[5 rows x 87 columns]"
      ]
     },
     "execution_count": 19,
     "metadata": {},
     "output_type": "execute_result"
    }
   ],
   "source": [
    "df.head()"
   ]
  },
  {
   "cell_type": "markdown",
   "metadata": {},
   "source": [
    "## Training, development, test (7:2:1)"
   ]
  },
  {
   "cell_type": "code",
   "execution_count": 20,
   "metadata": {},
   "outputs": [],
   "source": [
    "# shuffle data\n",
    "df.sample(frac=1)\n",
    "\n",
    "# normalize\n",
    "for col in df.columns:\n",
    "    if df[col].dtype == \"float64\" or df[col].dtype == \"int64\":\n",
    "        df[col] = (df[col] - df[col].min()) / (df[col].max() - df[col].min())\n",
    "\n",
    "\n",
    "# get rid of (super) low variance features\n",
    "selector = VarianceThreshold(0.03)\n",
    "training = selector.fit_transform(df.drop(columns=['Classification']))\n",
    "labels = df['Classification']\n",
    "\n",
    "length = training.shape[0]\n",
    "train_split = int(length * 0.7)\n",
    "dev_split = int(length * 0.9)\n",
    "\n",
    "train_X = training[0 : train_split]\n",
    "dev_X = training[train_split : dev_split]\n",
    "test_X = training[dev_split:]\n",
    "train_y = labels[0 : train_split]\n",
    "dev_y = labels[train_split : dev_split]\n",
    "test_y = labels[dev_split:]"
   ]
  },
  {
   "cell_type": "markdown",
   "metadata": {},
   "source": [
    "## Classification"
   ]
  },
  {
   "cell_type": "markdown",
   "metadata": {},
   "source": [
    "### SVM"
   ]
  },
  {
   "cell_type": "code",
   "execution_count": 21,
   "metadata": {},
   "outputs": [],
   "source": [
    "clf = AdaBoostClassifier(svm.SVC(kernel='linear', C=1, verbose=True))"
   ]
  },
  {
   "cell_type": "markdown",
   "metadata": {},
   "source": [
    "### Hyperparams Tuning"
   ]
  },
  {
   "cell_type": "code",
   "execution_count": 22,
   "metadata": {},
   "outputs": [
    {
     "name": "stdout",
     "output_type": "stream",
     "text": [
      "450 0.16690647482014387\n",
      "15 0.16666666666666663\n",
      "400 0.1482014388489209\n",
      "400 0.14141414141414144\n"
     ]
    },
    {
     "data": {
      "text/plain": [
       "[<matplotlib.lines.Line2D at 0x1101f8d30>]"
      ]
     },
     "execution_count": 22,
     "metadata": {},
     "output_type": "execute_result"
    },
    {
     "data": {
      "image/png": "[encoded data removed]",
      "text/plain": [
       "<Figure size 720x360 with 1 Axes>"
      ]
     },
     "metadata": {},
     "output_type": "display_data"
    },
    {
     "data": {
      "image/png": "[encoded data removed]",
      "text/plain": [
       "<Figure size 720x360 with 1 Axes>"
      ]
     },
     "metadata": {},
     "output_type": "display_data"
    }
   ],
   "source": [
    "C = [0.1, 0.5, 1, 5, 10, 15, 50, 100, 200, 250, 300, 400, 450, 480, 500, 550]\n",
    "kernels = ['linear', 'polynomial', 'rbf']\n",
    "\n",
    "train_errs = np.zeros(len(C))\n",
    "dev_errs = np.zeros(len(C))\n",
    "for i, c in enumerate(C):\n",
    "    clf = svm.SVC(kernel=kernels[0], C=c)\n",
    "    clf.fit(train_X, train_y)\n",
    "    train_err = 1 - clf.score(train_X, train_y)\n",
    "    dev_err = 1 - clf.score(dev_X, dev_y)\n",
    "    train_errs[i] = train_err\n",
    "    dev_errs[i] = dev_err\n",
    "    \n",
    "    \n",
    "print(C[np.argmin(train_errs)], np.min(train_errs))\n",
    "print(C[np.argmin(dev_errs)], np.min(dev_errs))\n",
    "\n",
    "fig, ax = plt.subplots(nrows=1, ncols=1)    \n",
    "fig.set_size_inches(10, 5)\n",
    "ax.plot(C, train_errs, 'r--')\n",
    "ax.plot(C, dev_errs, 'g--')\n",
    "\n",
    "\n",
    "train_errs = np.zeros(len(C))\n",
    "dev_errs = np.zeros(len(C))\n",
    "for i, c in enumerate(C):\n",
    "    clf = svm.SVC(kernel=kernels[2], C=c)\n",
    "    clf.fit(train_X, train_y)\n",
    "    train_err = 1 - clf.score(train_X, train_y)\n",
    "    dev_err = 1 - clf.score(dev_X, dev_y)\n",
    "    train_errs[i] = train_err\n",
    "    dev_errs[i] = dev_err\n",
    "    \n",
    "\n",
    "print(C[np.argmin(train_errs)], np.min(train_errs))\n",
    "print(C[np.argmin(dev_errs)], np.min(dev_errs))\n",
    "    \n",
    "fig, ax = plt.subplots(nrows=1, ncols=1)    \n",
    "fig.set_size_inches(10, 5)\n",
    "ax.plot(C, train_errs, 'r--')\n",
    "ax.plot(C, dev_errs, 'g--')\n",
    "\n"
   ]
  },
  {
   "cell_type": "markdown",
   "metadata": {},
   "source": [
    "### SVM with rbf kernel with L1 penalty 400 seems great, testing:"
   ]
  },
  {
   "cell_type": "code",
   "execution_count": 23,
   "metadata": {},
   "outputs": [
    {
     "name": "stdout",
     "output_type": "stream",
     "text": [
      "SVC(C=250, cache_size=200, class_weight=None, coef0=0.0,\n",
      "  decision_function_shape='ovr', degree=3, gamma='auto', kernel='rbf',\n",
      "  max_iter=-1, probability=False, random_state=None, shrinking=True,\n",
      "  tol=0.001, verbose=False)\n",
      "0.8\n"
     ]
    }
   ],
   "source": [
    "clf = svm.SVC(kernel='rbf', C=250)\n",
    "print(clf.fit(train_X, train_y))\n",
    "print(clf.score(test_X, test_y))"
   ]
  }
 ],
 "metadata": {
  "kernelspec": {
   "display_name": "Python 3",
   "language": "python",
   "name": "python3"
  },
  "language_info": {
   "codemirror_mode": {
    "name": "ipython",
    "version": 3
   },
   "file_extension": ".py",
   "mimetype": "text/x-python",
   "name": "python",
   "nbconvert_exporter": "python",
   "pygments_lexer": "ipython3",
   "version": "3.6.4"
  }
 },
 "nbformat": 4,
 "nbformat_minor": 2
}
