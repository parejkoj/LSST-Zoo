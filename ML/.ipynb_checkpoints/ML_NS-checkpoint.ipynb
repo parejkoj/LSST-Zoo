{
 "cells": [
  {
   "cell_type": "code",
   "execution_count": 23,
   "metadata": {
    "collapsed": true
   },
   "outputs": [],
   "source": [
    "import sys\n",
    "reload(sys)\n",
    "sys.setdefaultencoding(\"utf-8\")\n",
    "\n",
    "from keras.models import Sequential\n",
    "from ZooMeR import ZooMeR\n",
    "from sklearn.ensemble import RandomForestClassifier\n",
    "from sklearn.preprocessing import Imputer\n",
    "from sklearn.cross_validation import train_test_split\n",
    "from sklearn.metrics import mean_squared_error\n",
    "import matplotlib\n",
    "import numpy as np\n",
    "import matplotlib.pyplot as pl\n",
    "import pandas as pd\n",
    "import astropy\n",
    "import json\n",
    "from sklearn.decomposition import PCA\n",
    "from collections import Counter"
   ]
  },
  {
   "cell_type": "markdown",
   "metadata": {},
   "source": [
    "# Random Forest"
   ]
  },
  {
   "cell_type": "code",
   "execution_count": 17,
   "metadata": {
    "collapsed": true
   },
   "outputs": [],
   "source": [
    "# read in classifications ready for ML\n",
    "features_imp, df = ZooMeR(\"ML_param.csv\",\"lsst_run_one.csv\")\n",
    "\n",
    "#Read in the features in the data frame, filter for columns relevant for ML\n",
    "features = df.columns.tolist()\n",
    "\n",
    "features = [c for c in features if c not in [\"image\", \"Classification\"]]\n",
    "target = \"Classification\"  #Predict on Classifications\n",
    "\n",
    "#Cut 'useless' features and problematic features\n",
    "for feature in features:\n",
    "    if df[feature].isnull().all():\n",
    "        del df[feature]   \n",
    "    elif np.mean(df[feature]) == np.inf:\n",
    "        del df[feature]\n",
    "    elif \"flag\" in feature: #Flags don't contribute to ML based on initial testing\n",
    "        del df[feature]\n",
    "        \n",
    "features = df.columns.tolist()\n",
    "\n",
    "features = [c for c in features if c not in [\"image\", \"Classification\"]]"
   ]
  },
  {
   "cell_type": "code",
   "execution_count": 18,
   "metadata": {
    "collapsed": false
   },
   "outputs": [],
   "source": [
    "#Random Forest\n",
    "target = \"Classification\"\n",
    "\n",
    "RFC =  RandomForestClassifier()\n",
    "RFC = RFC.fit(features_imp,df[target])"
   ]
  },
  {
   "cell_type": "code",
   "execution_count": 19,
   "metadata": {
    "collapsed": false
   },
   "outputs": [],
   "source": [
    "feature_importance = zip(RFC.feature_importances_, features)\n",
    "# sorted(feature_importance, reverse=True)"
   ]
  },
  {
   "cell_type": "code",
   "execution_count": 20,
   "metadata": {
    "collapsed": false
   },
   "outputs": [],
   "source": [
    "#Split into Training Set and Testing Set\n",
    "\n",
    "train = df.sample(frac=0.8, random_state=1)\n",
    "test = df.loc[~df.index.isin(train.index)]\n",
    "\n",
    "imp_tt = Imputer(missing_values='NaN', strategy='median', axis=0, verbose = 1)\n",
    "imp_tt.fit(train[features])\n",
    "features_imp_tt = imp_tt.transform(train[features])\n",
    "\n",
    "#Random Forest Training/Test Split\n",
    "RFC_tt =  RandomForestClassifier()\n",
    "RFC_tt = RFC.fit(features_imp_tt,train[target])"
   ]
  },
  {
   "cell_type": "code",
   "execution_count": 21,
   "metadata": {
    "collapsed": true
   },
   "outputs": [],
   "source": [
    "imp_test = Imputer(missing_values='NaN', strategy='median', axis=0, verbose = 1)\n",
    "imp_test.fit(test[features])\n",
    "features_imp_test = imp_test.transform(test[features])\n",
    "\n",
    "\n",
    "predictions = RFC_tt.predict(features_imp_test)"
   ]
  },
  {
   "cell_type": "code",
   "execution_count": 22,
   "metadata": {
    "collapsed": true
   },
   "outputs": [],
   "source": [
    "for index in range(len(predictions)):\n",
    "    print predictions[index],\",\",test[\"Classification\"].tolist()[index]"
   ]
  },
  {
   "cell_type": "code",
   "execution_count": 24,
   "metadata": {
    "collapsed": true
   },
   "outputs": [],
   "source": [
    "pred_mapping = {}\n",
    "for index in range(len(predictions)):\n",
    "    pred_name = predictions[index]\n",
    "    class_name = test[\"Classification\"].tolist()[index]\n",
    "    if pred_name in pred_mapping:\n",
    "        pred_mapping[pred_name].append(class_name)\n",
    "    else:\n",
    "        pred_mapping[pred_name] = [class_name]\n",
    "        \n",
    "for pred_name, pred_value in pred_mapping.iteritems():\n",
    "    print pred_name, Counter(pred_value)"
   ]
  },
  {
   "cell_type": "code",
   "execution_count": 25,
   "metadata": {
    "collapsed": true
   },
   "outputs": [],
   "source": [
    "agree=0\n",
    "disagree=0\n",
    "for index in range(len(predictions)):\n",
    "    if predictions[index] == test[\"Classification\"].tolist()[index]:\n",
    "        agree+=1\n",
    "    else:\n",
    "        disagree+=1\n",
    "print \"Agree: \"+ str(agree), \"Disagree: \"+str(disagree)"
   ]
  },
  {
   "cell_type": "code",
   "execution_count": 27,
   "metadata": {
    "collapsed": false
   },
   "outputs": [
    {
     "data": {
      "text/plain": [
       "(248, 74)"
      ]
     },
     "execution_count": 27,
     "metadata": {},
     "output_type": "execute_result"
    }
   ],
   "source": [
    "agree, disagree"
   ]
  },
  {
   "cell_type": "code",
   "execution_count": 28,
   "metadata": {
    "collapsed": false
   },
   "outputs": [
    {
     "data": {
      "text/plain": [
       "0.7701863354037267"
      ]
     },
     "execution_count": 28,
     "metadata": {},
     "output_type": "execute_result"
    }
   ],
   "source": [
    "percent=float(agree)/len(predictions)\n",
    "percent"
   ]
  },
  {
   "cell_type": "code",
   "execution_count": 37,
   "metadata": {
    "collapsed": false
   },
   "outputs": [
    {
     "data": {
      "text/plain": [
       "(u'Possible Transient', u'Possible Transient')"
      ]
     },
     "execution_count": 37,
     "metadata": {},
     "output_type": "execute_result"
    }
   ],
   "source": [
    "ind = 57\n",
    "predictions[ind],test[\"Classification\"].tolist()[ind]"
   ]
  },
  {
   "cell_type": "code",
   "execution_count": null,
   "metadata": {
    "collapsed": true
   },
   "outputs": [],
   "source": []
  }
 ],
 "metadata": {
  "kernelspec": {
   "display_name": "Python 2",
   "language": "python",
   "name": "python2"
  },
  "language_info": {
   "codemirror_mode": {
    "name": "ipython",
    "version": 2
   },
   "file_extension": ".py",
   "mimetype": "text/x-python",
   "name": "python",
   "nbconvert_exporter": "python",
   "pygments_lexer": "ipython2",
   "version": "2.7.12"
  }
 },
 "nbformat": 4,
 "nbformat_minor": 0
}
