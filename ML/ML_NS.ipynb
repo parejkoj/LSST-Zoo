{
 "cells": [
  {
   "cell_type": "code",
   "execution_count": 158,
   "metadata": {
    "collapsed": true
   },
   "outputs": [],
   "source": [
    "import sys\n",
    "reload(sys)\n",
    "sys.setdefaultencoding(\"utf-8\")\n",
    "\n",
    "from keras.models import Sequential\n",
    "from ZooMeR import ZooMeR\n",
    "from sklearn.ensemble import RandomForestClassifier\n",
    "from sklearn.preprocessing import Imputer\n",
    "from sklearn.cross_validation import train_test_split\n",
    "from sklearn.metrics import mean_squared_error\n",
    "import matplotlib\n",
    "import numpy as np\n",
    "import matplotlib.pyplot as pl\n",
    "import pandas as pd\n",
    "import astropy\n",
    "import json\n",
    "from sklearn.decomposition import PCA\n",
    "from collections import Counter\n",
    "\n",
    "% matplotlib inline"
   ]
  },
  {
   "cell_type": "markdown",
   "metadata": {},
   "source": [
    "# Random Forest"
   ]
  },
  {
   "cell_type": "code",
   "execution_count": 2,
   "metadata": {
    "collapsed": true
   },
   "outputs": [],
   "source": [
    "# read in classifications ready for ML\n",
    "features_imp, df = ZooMeR(\"ML_param.csv\",\"lsst_run_one.csv\")\n",
    "\n",
    "#Read in the features in the data frame, filter for columns relevant for ML\n",
    "features = df.columns.tolist()\n",
    "\n",
    "features = [c for c in features if c not in [\"image\", \"Classification\"]]\n",
    "target = \"Classification\"  #Predict on Classifications\n",
    "\n",
    "#Cut 'useless' features and problematic features\n",
    "for feature in features:\n",
    "    if df[feature].isnull().all():\n",
    "        del df[feature]   \n",
    "    elif np.mean(df[feature]) == np.inf:\n",
    "        del df[feature]\n",
    "    elif \"flag\" in feature: #Flags don't contribute to ML based on initial testing\n",
    "        del df[feature]\n",
    "        \n",
    "features = df.columns.tolist()\n",
    "\n",
    "features = [c for c in features if c not in [\"image\", \"Classification\"]]"
   ]
  },
  {
   "cell_type": "code",
   "execution_count": 3,
   "metadata": {
    "collapsed": false
   },
   "outputs": [],
   "source": [
    "#Random Forest\n",
    "target = \"Classification\"\n",
    "\n",
    "RFC =  RandomForestClassifier()\n",
    "RFC = RFC.fit(features_imp,df[target])"
   ]
  },
  {
   "cell_type": "code",
   "execution_count": 4,
   "metadata": {
    "collapsed": false
   },
   "outputs": [],
   "source": [
    "feature_importance = zip(RFC.feature_importances_, features)\n",
    "# sorted(feature_importance, reverse=True)"
   ]
  },
  {
   "cell_type": "code",
   "execution_count": 5,
   "metadata": {
    "collapsed": false
   },
   "outputs": [],
   "source": [
    "#Split into Training Set and Testing Set\n",
    "\n",
    "train = df.sample(frac=0.8, random_state=1)\n",
    "test = df.loc[~df.index.isin(train.index)]\n",
    "\n",
    "imp_tt = Imputer(missing_values='NaN', strategy='median', axis=0, verbose = 1)\n",
    "imp_tt.fit(train[features])\n",
    "features_imp_tt = imp_tt.transform(train[features])\n",
    "\n",
    "#Random Forest Training/Test Split\n",
    "RFC_tt =  RandomForestClassifier()\n",
    "RFC_tt = RFC.fit(features_imp_tt,train[target])"
   ]
  },
  {
   "cell_type": "code",
   "execution_count": 6,
   "metadata": {
    "collapsed": true
   },
   "outputs": [],
   "source": [
    "imp_test = Imputer(missing_values='NaN', strategy='median', axis=0, verbose = 1)\n",
    "imp_test.fit(test[features])\n",
    "features_imp_test = imp_test.transform(test[features])\n",
    "\n",
    "\n",
    "predictions = RFC_tt.predict(features_imp_test)"
   ]
  },
  {
   "cell_type": "code",
   "execution_count": 7,
   "metadata": {
    "collapsed": true
   },
   "outputs": [],
   "source": [
    "for index in range(len(predictions)):\n",
    "    print predictions[index],\",\",test[\"Classification\"].tolist()[index]"
   ]
  },
  {
   "cell_type": "code",
   "execution_count": 8,
   "metadata": {
    "collapsed": true
   },
   "outputs": [],
   "source": [
    "pred_mapping = {}\n",
    "for index in range(len(predictions)):\n",
    "    pred_name = predictions[index]\n",
    "    class_name = test[\"Classification\"].tolist()[index]\n",
    "    if pred_name in pred_mapping:\n",
    "        pred_mapping[pred_name].append(class_name)\n",
    "    else:\n",
    "        pred_mapping[pred_name] = [class_name]\n",
    "        \n",
    "for pred_name, pred_value in pred_mapping.iteritems():\n",
    "    print pred_name, Counter(pred_value)"
   ]
  },
  {
   "cell_type": "code",
   "execution_count": 44,
   "metadata": {
    "collapsed": false
   },
   "outputs": [],
   "source": [
    "agree=0\n",
    "agrees = []\n",
    "disagree=0\n",
    "for index in range(len(predictions)):\n",
    "    if predictions[index] == test[\"Classification\"].tolist()[index]:\n",
    "        agree+=1\n",
    "        agrees.append(index)\n",
    "    else:\n",
    "        disagree+=1\n",
    "print \"Agree: \"+ str(agree), \"Disagree: \"+str(disagree)"
   ]
  },
  {
   "cell_type": "code",
   "execution_count": 10,
   "metadata": {
    "collapsed": false
   },
   "outputs": [
    {
     "data": {
      "text/plain": [
       "(250, 72)"
      ]
     },
     "execution_count": 10,
     "metadata": {},
     "output_type": "execute_result"
    }
   ],
   "source": [
    "agree, disagree"
   ]
  },
  {
   "cell_type": "code",
   "execution_count": 11,
   "metadata": {
    "collapsed": false
   },
   "outputs": [
    {
     "data": {
      "text/plain": [
       "0.7763975155279503"
      ]
     },
     "execution_count": 11,
     "metadata": {},
     "output_type": "execute_result"
    }
   ],
   "source": [
    "percent=float(agree)/len(predictions)\n",
    "percent"
   ]
  },
  {
   "cell_type": "code",
   "execution_count": 12,
   "metadata": {
    "collapsed": false
   },
   "outputs": [
    {
     "data": {
      "text/plain": [
       "(u'Possible Transient', u'Possible Transient')"
      ]
     },
     "execution_count": 12,
     "metadata": {},
     "output_type": "execute_result"
    }
   ],
   "source": [
    "ind = 57\n",
    "predictions[ind],test[\"Classification\"].tolist()[ind]"
   ]
  },
  {
   "cell_type": "code",
   "execution_count": 33,
   "metadata": {
    "collapsed": false
   },
   "outputs": [],
   "source": [
    "strval = 'u\\'Dipole\\''\n",
    "indices = [i for i,c in enumerate(np.array(test[\"Classification\"])) if c==strval]"
   ]
  },
  {
   "cell_type": "code",
   "execution_count": 145,
   "metadata": {
    "collapsed": false
   },
   "outputs": [],
   "source": [
    "ptindices = np.where(test[\"Classification\"]=='Possible Transient')\n",
    "ptagree = [pt for pt in ptindices[0] if predictions[pt] == test[\"Classification\"].tolist()[pt]]\n",
    "\n",
    "dpindices = np.where(test[\"Classification\"]=='Dipole')\n",
    "dpagree = [dp for dp in dpindices[0] if predictions[dp] == test[\"Classification\"].tolist()[dp]]\n",
    "\n",
    "seindices = np.where(test[\"Classification\"]=='Subtraction Error')\n",
    "seagree = [se for se in seindices[0] if predictions[se] == test[\"Classification\"].tolist()[se]]\n",
    "\n",
    "pvindices = np.where(test[\"Classification\"]=='Possible Variable Star')\n",
    "pvagree = [pv for pv in pvindices[0] if predictions[pv] == test[\"Classification\"].tolist()[pv]]\n",
    "\n",
    "noindices = np.where(test[\"Classification\"]=='Noise')\n",
    "noagree = [no for no in noindices[0] if predictions[no] == test[\"Classification\"].tolist()[no]]\n",
    "\n",
    "paindices = np.where(test[\"Classification\"]=='Pixel Artifact')\n",
    "paagree = [pa for pa in paindices[0] if predictions[pa] == test[\"Classification\"].tolist()[pa]]\n",
    "\n",
    "otindices = np.where(test[\"Classification\"]=='Other')\n",
    "otagree = [ot for ot in otindices[0] if predictions[ot] == test[\"Classification\"].tolist()[ot]]"
   ]
  },
  {
   "cell_type": "code",
   "execution_count": 146,
   "metadata": {
    "collapsed": false
   },
   "outputs": [],
   "source": [
    "agrees = [len(ptagree),len(dpagree),len(seagree),len(pvagree),len(noagree),len(paagree),len(otagree)]\n",
    "disagrees = [len(ptindices[0])-agrees[0],len(dpindices[0])-agrees[1],len(seindices[0])-agrees[2],len(pvindices[0])-agrees[3],len(noindices[0])-agrees[4],len(paindices[0])-agrees[5],len(otindices[0])-agrees[6]]"
   ]
  },
  {
   "cell_type": "code",
   "execution_count": 149,
   "metadata": {
    "collapsed": false
   },
   "outputs": [
    {
     "data": {
      "text/plain": [
       "([71, 58, 54, 59, 1, 7, 0], [0, 25, 27, 13, 1, 4, 0])"
      ]
     },
     "execution_count": 149,
     "metadata": {},
     "output_type": "execute_result"
    }
   ],
   "source": [
    "agrees,disagrees"
   ]
  },
  {
   "cell_type": "code",
   "execution_count": 176,
   "metadata": {
    "collapsed": false
   },
   "outputs": [
    {
     "data": {
      "image/png": "[encoded data removed]",
      "text/plain": [
       "<matplotlib.figure.Figure at 0x11a544a90>"
      ]
     },
     "metadata": {},
     "output_type": "display_data"
    }
   ],
   "source": [
    "fig = pl.figure(figsize=(15,5))\n",
    "ax = fig.add_subplot(111)\n",
    "ind = np.arange(len(agrees))\n",
    "width = 0.35\n",
    "\n",
    "p1 = ax.bar(np.arange(len(agrees)), agrees, width, color='b',label='Agree')\n",
    "p2 = ax.bar(np.arange(len(agrees)), disagrees, width, color='r',label='Disagree',bottom=agrees)\n",
    "\n",
    "ax.set_ylabel('Classifications');\n",
    "ax.set_title('Random Forest Classification Success Rate');\n",
    "ax.set_xlim(0,6)\n",
    "ax.set_xticks(ind + width/2.)\n",
    "ax.set_yticks(np.arange(0, 81, 10))\n",
    "ax.set_xticklabels(('Possible Transient','Dipole','Subtraction Error','Possible Variable Star','Noise','Pixel Artifact','Other'))\n",
    "\n",
    "pl.legend(loc=0)\n",
    "\n",
    "pl.show()"
   ]
  },
  {
   "cell_type": "code",
   "execution_count": 175,
   "metadata": {
    "collapsed": false
   },
   "outputs": [
    {
     "data": {
      "text/plain": [
       "83"
      ]
     },
     "execution_count": 175,
     "metadata": {},
     "output_type": "execute_result"
    }
   ],
   "source": [
    "len(dpindices[0])"
   ]
  },
  {
   "cell_type": "code",
   "execution_count": null,
   "metadata": {
    "collapsed": true
   },
   "outputs": [],
   "source": []
  }
 ],
 "metadata": {
  "kernelspec": {
   "display_name": "Python 2",
   "language": "python",
   "name": "python2"
  },
  "language_info": {
   "codemirror_mode": {
    "name": "ipython",
    "version": 2
   },
   "file_extension": ".py",
   "mimetype": "text/x-python",
   "name": "python",
   "nbconvert_exporter": "python",
   "pygments_lexer": "ipython2",
   "version": "2.7.12"
  }
 },
 "nbformat": 4,
 "nbformat_minor": 0
}
